{
  "nbformat": 4,
  "nbformat_minor": 0,
  "metadata": {
    "colab": {
      "provenance": [],
      "authorship_tag": "ABX9TyPY90vdhRmugc5HlGLCb+kZ",
      "include_colab_link": true
    },
    "kernelspec": {
      "name": "python3",
      "display_name": "Python 3"
    },
    "language_info": {
      "name": "python"
    }
  },
  "cells": [
    {
      "cell_type": "markdown",
      "metadata": {
        "id": "view-in-github",
        "colab_type": "text"
      },
      "source": [
        "<a href=\"https://colab.research.google.com/github/stevengregori92/Pytorch-Intro/blob/main/Python_Class_%26_Object_Oriented_Programming.ipynb\" target=\"_parent\"><img src=\"https://colab.research.google.com/assets/colab-badge.svg\" alt=\"Open In Colab\"/></a>"
      ]
    },
    {
      "cell_type": "code",
      "execution_count": null,
      "metadata": {
        "id": "tFYNcEwcomkJ"
      },
      "outputs": [],
      "source": [
        "class Manusia:\n",
        "  def __init__(self, warna_rambut, tinggi = 170, berat=70):\n",
        "    self.warna_rambut = warna_rambut\n",
        "    self.tinggi = tinggi\n",
        "    self.berat = berat\n",
        "  \n",
        "  def cat_rambut(self, warna):\n",
        "    self.warna_rambut = warna\n",
        "    print(f'Warna rambut anda {warna}')\n",
        "\n",
        "  def BMI(self):\n",
        "    return self.berat / self.tinggi ** 2"
      ]
    },
    {
      "cell_type": "code",
      "source": [
        "wira = Manusia('hitam', 178, 69)"
      ],
      "metadata": {
        "id": "xjPlXXilrMX6"
      },
      "execution_count": null,
      "outputs": []
    },
    {
      "cell_type": "code",
      "source": [
        "febrian."
      ],
      "metadata": {
        "id": "CfB5vwM_tvkh"
      },
      "execution_count": null,
      "outputs": []
    },
    {
      "cell_type": "code",
      "source": [
        "wira.warna_rambut"
      ],
      "metadata": {
        "colab": {
          "base_uri": "https://localhost:8080/",
          "height": 36
        },
        "id": "2TwIhq2XrQMQ",
        "outputId": "ee7c4e43-40f5-4eb7-fdbb-9a5aa156ebb8"
      },
      "execution_count": null,
      "outputs": [
        {
          "output_type": "execute_result",
          "data": {
            "text/plain": [
              "'hitam'"
            ],
            "application/vnd.google.colaboratory.intrinsic+json": {
              "type": "string"
            }
          },
          "metadata": {},
          "execution_count": 7
        }
      ]
    },
    {
      "cell_type": "code",
      "source": [
        "wira.tinggi"
      ],
      "metadata": {
        "colab": {
          "base_uri": "https://localhost:8080/"
        },
        "id": "SJTFM9v2rcW5",
        "outputId": "795ddfcd-68ba-41c4-9fed-368a4081220a"
      },
      "execution_count": null,
      "outputs": [
        {
          "output_type": "execute_result",
          "data": {
            "text/plain": [
              "178"
            ]
          },
          "metadata": {},
          "execution_count": 8
        }
      ]
    },
    {
      "cell_type": "code",
      "source": [
        "wira.cat_rambut('coklat')"
      ],
      "metadata": {
        "colab": {
          "base_uri": "https://localhost:8080/"
        },
        "id": "bPET080_reBq",
        "outputId": "2ebd02f2-35c5-4925-a314-07cd0a8523cc"
      },
      "execution_count": null,
      "outputs": [
        {
          "output_type": "stream",
          "name": "stdout",
          "text": [
            "Warna rambut anda coklat\n"
          ]
        }
      ]
    },
    {
      "cell_type": "code",
      "source": [
        "wira.BMI()"
      ],
      "metadata": {
        "colab": {
          "base_uri": "https://localhost:8080/"
        },
        "id": "9wE0ntO0sdvN",
        "outputId": "9a6e9ee5-859d-42a7-88ea-fb23e499a0c9"
      },
      "execution_count": null,
      "outputs": [
        {
          "output_type": "execute_result",
          "data": {
            "text/plain": [
              "0.0021777553339224847"
            ]
          },
          "metadata": {},
          "execution_count": 15
        }
      ]
    },
    {
      "cell_type": "markdown",
      "source": [
        "#Inheritance"
      ],
      "metadata": {
        "id": "SlP69mejuTJI"
      }
    },
    {
      "cell_type": "code",
      "source": [
        "class Mahasiswa(Manusia):\n",
        "  def __init__(self, warna_rambut, tinggi, berat, univ):\n",
        "    super().__init__(warna_rambut, tinggi, berat)\n",
        "    self.universitas = univ\n",
        "  \n",
        "  def pindah_univ(self, univ_baru):\n",
        "    self.universitas = univ_baru"
      ],
      "metadata": {
        "id": "TPKHRoYGtW3k"
      },
      "execution_count": null,
      "outputs": []
    },
    {
      "cell_type": "code",
      "source": [
        "selvi = Mahasiswa('merah', 180, 76, 'Universitas Indonesia')"
      ],
      "metadata": {
        "id": "HMoKTuwDwHDO"
      },
      "execution_count": null,
      "outputs": []
    },
    {
      "cell_type": "code",
      "source": [
        "selvi.universitas"
      ],
      "metadata": {
        "colab": {
          "base_uri": "https://localhost:8080/",
          "height": 36
        },
        "id": "rUsX7IOcwJ2t",
        "outputId": "01abd910-315c-404c-96b0-943a09d79698"
      },
      "execution_count": null,
      "outputs": [
        {
          "output_type": "execute_result",
          "data": {
            "text/plain": [
              "'Universitas Indonesia'"
            ],
            "application/vnd.google.colaboratory.intrinsic+json": {
              "type": "string"
            }
          },
          "metadata": {},
          "execution_count": 20
        }
      ]
    },
    {
      "cell_type": "code",
      "source": [
        "selvi.warna_rambut"
      ],
      "metadata": {
        "colab": {
          "base_uri": "https://localhost:8080/",
          "height": 36
        },
        "id": "vJbWxaVGwccj",
        "outputId": "2836ae3d-b140-4af9-c6c5-89d9e20cbef0"
      },
      "execution_count": null,
      "outputs": [
        {
          "output_type": "execute_result",
          "data": {
            "text/plain": [
              "'merah'"
            ],
            "application/vnd.google.colaboratory.intrinsic+json": {
              "type": "string"
            }
          },
          "metadata": {},
          "execution_count": 21
        }
      ]
    },
    {
      "cell_type": "code",
      "source": [
        "selvi.pindah_univ('MIT')"
      ],
      "metadata": {
        "id": "fBI_pw7hwqlt"
      },
      "execution_count": null,
      "outputs": []
    },
    {
      "cell_type": "code",
      "source": [
        "selvi.universitas"
      ],
      "metadata": {
        "colab": {
          "base_uri": "https://localhost:8080/",
          "height": 36
        },
        "id": "yl4-DPaMx6lJ",
        "outputId": "54545a47-5586-4ca6-fe06-c694368cbf00"
      },
      "execution_count": null,
      "outputs": [
        {
          "output_type": "execute_result",
          "data": {
            "text/plain": [
              "'MIT'"
            ],
            "application/vnd.google.colaboratory.intrinsic+json": {
              "type": "string"
            }
          },
          "metadata": {},
          "execution_count": 25
        }
      ]
    },
    {
      "cell_type": "markdown",
      "source": [
        "#PyTorch NN Module"
      ],
      "metadata": {
        "id": "eJfphbBBywTY"
      }
    },
    {
      "cell_type": "code",
      "source": [
        "import torch\n",
        "from torch import nn"
      ],
      "metadata": {
        "id": "MaTSFVCix8MZ"
      },
      "execution_count": null,
      "outputs": []
    },
    {
      "cell_type": "code",
      "source": [
        "??nn.Linear"
      ],
      "metadata": {
        "id": "grBv5Kk333Hv"
      },
      "execution_count": null,
      "outputs": []
    },
    {
      "cell_type": "code",
      "source": [
        "class CustomNN(nn.Module):\n",
        "  def __init__(self, input_size, output_size):\n",
        "    super().__init__()\n",
        "    self.fc = nn.Sequential(\n",
        "        nn.Linear(input_size, 16),\n",
        "        nn.ReLU()        \n",
        "    )\n",
        "\n",
        "    self.reg = nn.Linear(16,4)\n",
        "\n",
        "    self.clf = nn.Sequential(\n",
        "        nn.Linear(16, 4),\n",
        "        nn.Sigmoid()\n",
        "    )\n",
        "\n",
        "  def forward(self, x):\n",
        "    x = self.fc(x)\n",
        "    pred_reg = self.reg(x)\n",
        "    pref_clf = self.clf(x)\n",
        "    return pred_reg, pref_clf"
      ],
      "metadata": {
        "id": "eeLHssxU38Kv"
      },
      "execution_count": null,
      "outputs": []
    },
    {
      "cell_type": "code",
      "source": [
        "model = CustomNN(7,1)"
      ],
      "metadata": {
        "id": "a6Au6ceD9YMJ"
      },
      "execution_count": null,
      "outputs": []
    },
    {
      "cell_type": "code",
      "source": [
        "contoh_data = torch.rand(100, 7)"
      ],
      "metadata": {
        "id": "caLV048t-G4m"
      },
      "execution_count": null,
      "outputs": []
    },
    {
      "cell_type": "code",
      "source": [
        "output = model(contoh_data)"
      ],
      "metadata": {
        "id": "sn8X6A_c-NLQ"
      },
      "execution_count": null,
      "outputs": []
    },
    {
      "cell_type": "code",
      "source": [
        "class FashionClassifier(nn.Module):\n",
        "  def __init__(self, input_size, n1, n2):\n",
        "    super().__init__(self)\n",
        "    self.fc = nn.Sequential(\n",
        "        nn.Linear(input_size, n1),\n",
        "        nn.ReLU(),\n",
        "        nn.Dropout(),\n",
        "\n",
        "        nn.Linear(n1, n2),\n",
        "        nn.ReLU(),\n",
        "        nn.Dropout()\n",
        "    )\n",
        "\n",
        "    self.clf = nn.Sequential(\n",
        "        nn.Linear(n2, output_size),\n",
        "        nn.LogSoftmax()\n",
        "    )\n",
        "\n",
        "  def forward(self, x):\n",
        "    return self.fc(x)"
      ],
      "metadata": {
        "id": "4ObMWDb_c5C2"
      },
      "execution_count": null,
      "outputs": []
    },
    {
      "cell_type": "code",
      "source": [],
      "metadata": {
        "id": "iRZkIQlE-QYy"
      },
      "execution_count": null,
      "outputs": []
    }
  ]
}